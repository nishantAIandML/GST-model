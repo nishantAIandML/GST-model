{
  "nbformat": 4,
  "nbformat_minor": 0,
  "metadata": {
    "colab": {
      "provenance": []
    },
    "kernelspec": {
      "name": "python3",
      "display_name": "Python 3"
    },
    "language_info": {
      "name": "python"
    }
  },
  "cells": [
    {
      "cell_type": "code",
      "execution_count": 1,
      "metadata": {
        "colab": {
          "base_uri": "https://localhost:8080/"
        },
        "id": "1TeWwBAQ-x_r",
        "outputId": "d94ba1e6-6923-40d6-864b-f31b3f4b4220"
      },
      "outputs": [
        {
          "output_type": "stream",
          "name": "stdout",
          "text": [
            "Collecting groq\n",
            "  Downloading groq-0.11.0-py3-none-any.whl.metadata (13 kB)\n",
            "Requirement already satisfied: anyio<5,>=3.5.0 in /usr/local/lib/python3.10/dist-packages (from groq) (3.7.1)\n",
            "Requirement already satisfied: distro<2,>=1.7.0 in /usr/lib/python3/dist-packages (from groq) (1.7.0)\n",
            "Collecting httpx<1,>=0.23.0 (from groq)\n",
            "  Downloading httpx-0.27.2-py3-none-any.whl.metadata (7.1 kB)\n",
            "Requirement already satisfied: pydantic<3,>=1.9.0 in /usr/local/lib/python3.10/dist-packages (from groq) (2.9.2)\n",
            "Requirement already satisfied: sniffio in /usr/local/lib/python3.10/dist-packages (from groq) (1.3.1)\n",
            "Requirement already satisfied: typing-extensions<5,>=4.7 in /usr/local/lib/python3.10/dist-packages (from groq) (4.12.2)\n",
            "Requirement already satisfied: idna>=2.8 in /usr/local/lib/python3.10/dist-packages (from anyio<5,>=3.5.0->groq) (3.10)\n",
            "Requirement already satisfied: exceptiongroup in /usr/local/lib/python3.10/dist-packages (from anyio<5,>=3.5.0->groq) (1.2.2)\n",
            "Requirement already satisfied: certifi in /usr/local/lib/python3.10/dist-packages (from httpx<1,>=0.23.0->groq) (2024.8.30)\n",
            "Collecting httpcore==1.* (from httpx<1,>=0.23.0->groq)\n",
            "  Downloading httpcore-1.0.6-py3-none-any.whl.metadata (21 kB)\n",
            "Collecting h11<0.15,>=0.13 (from httpcore==1.*->httpx<1,>=0.23.0->groq)\n",
            "  Downloading h11-0.14.0-py3-none-any.whl.metadata (8.2 kB)\n",
            "Requirement already satisfied: annotated-types>=0.6.0 in /usr/local/lib/python3.10/dist-packages (from pydantic<3,>=1.9.0->groq) (0.7.0)\n",
            "Requirement already satisfied: pydantic-core==2.23.4 in /usr/local/lib/python3.10/dist-packages (from pydantic<3,>=1.9.0->groq) (2.23.4)\n",
            "Downloading groq-0.11.0-py3-none-any.whl (106 kB)\n",
            "\u001b[2K   \u001b[90m━━━━━━━━━━━━━━━━━━━━━━━━━━━━━━━━━━━━━━━━\u001b[0m \u001b[32m106.5/106.5 kB\u001b[0m \u001b[31m2.3 MB/s\u001b[0m eta \u001b[36m0:00:00\u001b[0m\n",
            "\u001b[?25hDownloading httpx-0.27.2-py3-none-any.whl (76 kB)\n",
            "\u001b[2K   \u001b[90m━━━━━━━━━━━━━━━━━━━━━━━━━━━━━━━━━━━━━━━━\u001b[0m \u001b[32m76.4/76.4 kB\u001b[0m \u001b[31m3.9 MB/s\u001b[0m eta \u001b[36m0:00:00\u001b[0m\n",
            "\u001b[?25hDownloading httpcore-1.0.6-py3-none-any.whl (78 kB)\n",
            "\u001b[2K   \u001b[90m━━━━━━━━━━━━━━━━━━━━━━━━━━━━━━━━━━━━━━━━\u001b[0m \u001b[32m78.0/78.0 kB\u001b[0m \u001b[31m3.7 MB/s\u001b[0m eta \u001b[36m0:00:00\u001b[0m\n",
            "\u001b[?25hDownloading h11-0.14.0-py3-none-any.whl (58 kB)\n",
            "\u001b[2K   \u001b[90m━━━━━━━━━━━━━━━━━━━━━━━━━━━━━━━━━━━━━━━━\u001b[0m \u001b[32m58.3/58.3 kB\u001b[0m \u001b[31m3.9 MB/s\u001b[0m eta \u001b[36m0:00:00\u001b[0m\n",
            "\u001b[?25hInstalling collected packages: h11, httpcore, httpx, groq\n",
            "Successfully installed groq-0.11.0 h11-0.14.0 httpcore-1.0.6 httpx-0.27.2\n"
          ]
        }
      ],
      "source": [
        "!pip install groq\n",
        "GROQ_API_KEY='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'\n",
        "import os\n",
        "from groq import Groq\n",
        "client = Groq(\n",
        "    api_key=GROQ_API_KEY,\n",
        ")"
      ]
    },
    {
      "cell_type": "code",
      "source": [
        "def chatbot(l):\n",
        "    # Start an empty conversation\n",
        "    conversation = []\n",
        "    b=[]\n",
        "    # print(\"Chatbot: Hi! How can I help you today?\")\n",
        "    i=0\n",
        "    while i<len(l):\n",
        "        # Get input from the user\n",
        "        # user_input = input(\"You: \")\n",
        "\n",
        "        # Check if the user wants to quit\n",
        "        if l[i].lower() in [\"quit\", \"exit\", \"bye\"]:\n",
        "            # print(\"Chatbot: Goodbye!\")\n",
        "            break\n",
        "\n",
        "        # Add user's message to the conversation\n",
        "        conversation.append({\"role\": \"user\", \"content\": l[i]})\n",
        "\n",
        "        # Get chatbot completion\n",
        "        completion = client.chat.completions.create(\n",
        "            model=\"llama3-8b-8192\",  # This is the model you're using\n",
        "            messages=conversation,   # Pass the conversation so far\n",
        "            temperature=1,\n",
        "            max_tokens=1024,\n",
        "            top_p=1,\n",
        "            stream=True,\n",
        "            stop=None,\n",
        "        )\n",
        "\n",
        "        # Output chatbot's response\n",
        "        bot_response = \"\"\n",
        "        for chunk in completion:\n",
        "            response_part = chunk.choices[0].delta.content or \"\"\n",
        "            # print(response_part, end=\"\")\n",
        "            bot_response += response_part\n",
        "\n",
        "        print()  # Print a newline after the response\n",
        "        conversation.append({\"role\": \"assistant\", \"content\": bot_response})\n",
        "        i=i+1\n",
        "        b.append(bot_response)\n",
        "    hsn=b[1:]\n",
        "    hsn_1=list()\n",
        "    for i in hsn:\n",
        "      hsn_1.append(remove_dot(i))\n",
        "    return hsn_1\n",
        "l=[\"i will give you product discription you just give me HS code for that products if you confuse or multiple answers just give me most probable answer like:123346\",\"Almonds\"]\n",
        "r=chatbot(l)"
      ],
      "metadata": {
        "colab": {
          "base_uri": "https://localhost:8080/"
        },
        "id": "j270bXFh_FUp",
        "outputId": "d1df8824-409c-4f8d-9907-4bab3fb15233"
      },
      "execution_count": 4,
      "outputs": [
        {
          "output_type": "stream",
          "name": "stdout",
          "text": [
            "\n",
            "\n"
          ]
        }
      ]
    },
    {
      "cell_type": "code",
      "source": [
        "def remove_dot(a):\n",
        "  l=\"\"\n",
        "  for i in a:\n",
        "    if i in ['0','1','2','3','4','5','6','7','8','9']:\n",
        "      l+=i\n",
        "  return l"
      ],
      "metadata": {
        "id": "ZgOqEB23-3ZL"
      },
      "execution_count": 2,
      "outputs": []
    },
    {
      "cell_type": "code",
      "source": [
        "def remove_per(a):\n",
        "  if a[0]==' ':\n",
        "    return remove_per(a[1:])\n",
        "  b=''\n",
        "  for i in a:\n",
        "    if i==' ' or i=='%':\n",
        "      break\n",
        "    else:\n",
        "      b+=i\n",
        "  return float(b)"
      ],
      "metadata": {
        "id": "4S7vGKtK_9yl"
      },
      "execution_count": 8,
      "outputs": []
    },
    {
      "cell_type": "code",
      "source": [
        "def get_gst(food_description):\n",
        "  lis=[]\n",
        "  for food in food_description:\n",
        "    chat_completion = client.chat.completions.create(\n",
        "        messages=[\n",
        "            {\n",
        "                \"role\": \"user\",\n",
        "                \"content\": f\"{food}. Give answer\"\n",
        "            }\n",
        "        ],\n",
        "        model=\"llama3-8b-8192\",\n",
        "    )\n",
        "    # global msg\n",
        "    msg=f\"GST for '{food}': {chat_completion.choices[0].message.content}\"\n",
        "    l=msg.split(\":\")\n",
        "    lis.append(l[1])\n",
        "    l=lis[1:]\n",
        "    list1=[]\n",
        "  for i in l:\n",
        "    list1.append(remove_per(i))\n",
        "  return list1\n",
        "l=['I will give you food description of foods and you just tell me only numerical value of GST on that in India of 2023 GST Model if you give me value you can not change it',\n",
        " 'give me GST rate in percentage for Oil only numerical value',\n",
        " 'give me GST rate in percentage for Fruits Juice only numerical value']"
      ],
      "metadata": {
        "id": "pBK3cCku_QnI"
      },
      "execution_count": 5,
      "outputs": []
    },
    {
      "cell_type": "code",
      "source": [
        "import pandas as pd\n",
        "def gst_calculate():\n",
        "  gst_descriptions=[\"I will give you food description of foods and you just tell me only numerical value of GST on that in India\" ]\n",
        "  # hsn_descriptions=['I will give you food description of foods and you just tell me only HSN Code on that in India:']\n",
        "  hsn=[\"i will give you product discription you just give me HS code for that products if you confuse or multiple answers just give me most probable answer like:123346\"]\n",
        "  description=[]\n",
        "  Rate_without_gst=[]\n",
        "  Rate_with_gst=[]\n",
        "  no_of_quantity=[]\n",
        "  total_without_gst=0\n",
        "  total_with_gst=0\n",
        "  n=int(input('Enter Number of items: '))\n",
        "  for i in range(n):\n",
        "    description_of_food=input('Enter the Discription of food: ')\n",
        "    number_of_quan=int(input('Enter no. of Quantity'))\n",
        "    rate_without_gst=float(input('Enter rate without GST: '))\n",
        "    description.append(description_of_food)\n",
        "    hsn.append(description_of_food)\n",
        "    Rate_without_gst.append(rate_without_gst)\n",
        "    no_of_quantity.append(number_of_quan)\n",
        "    gst_descriptions.append(f\"give me GST rate in percentage for {description_of_food} only numerical value\")\n",
        "    # hsn_descriptions.append(f\"give me HSN code for {description_of_food}\")\n",
        "  lis=get_gst(gst_descriptions)\n",
        "  # hsn=get_HSN(hsn_descriptions)\n",
        "  for i in range(n):\n",
        "    Rate_with_gst.append(Rate_without_gst[i]*(lis[i]+100)/100)\n",
        "  description.append(\"Total\")\n",
        "  Rate_without_gst.append(None)\n",
        "  Rate_with_gst.append(None)\n",
        "  lis.append(None)\n",
        "  l=chatbot(hsn)\n",
        "  l.append(None)\n",
        "  # l.append(None)\n",
        "  no_of_quantity.append(None)\n",
        "  total_rate_without_gst=[]\n",
        "  total_rate_with_gst=[]\n",
        "  for i in range(len(Rate_without_gst)-1):\n",
        "    total_rate_without_gst.append(no_of_quantity[i]*Rate_without_gst[i])\n",
        "    total_rate_with_gst.append(no_of_quantity[i]*Rate_with_gst[i])\n",
        "  total1=0\n",
        "  total2=0\n",
        "  for i in range(len(no_of_quantity)-1):\n",
        "    total1+=no_of_quantity[i]*Rate_without_gst[i]\n",
        "    total2+=no_of_quantity[i]*Rate_with_gst[i]\n",
        "  total_rate_with_gst.append(total2)\n",
        "  total_rate_without_gst.append(total1)\n",
        "  l={\"Description of Foods\":description,\"HSN Code\":l,\"No.of Quantity\":no_of_quantity,\"Rate without GST per kg\\litre\":Rate_without_gst,\"Rate_with_GST per kg\\litre\":Rate_with_gst,\"GST_percentage\":lis,\"Total Rate without GST\":total_rate_without_gst,\"Total Rate with GST\":total_rate_with_gst}\n",
        "  d=pd.DataFrame(l)\n",
        "  print(d)"
      ],
      "metadata": {
        "id": "64NZcTOG_d9i"
      },
      "execution_count": 6,
      "outputs": []
    },
    {
      "cell_type": "code",
      "source": [
        "gst_calculate()"
      ],
      "metadata": {
        "colab": {
          "base_uri": "https://localhost:8080/"
        },
        "id": "4yGeM2yL_l8P",
        "outputId": "c4cd77e3-0406-419d-a159-647e381ef3d2"
      },
      "execution_count": 9,
      "outputs": [
        {
          "output_type": "stream",
          "name": "stdout",
          "text": [
            "Enter Number of items: 1\n",
            "Enter the Discription of food: Juice\n",
            "Enter no. of Quantity2\n",
            "Enter rate without GST: 50\n",
            "\n",
            "\n",
            "  Description of Foods HSN Code  No.of Quantity  \\\n",
            "0                Juice       20             2.0   \n",
            "1                Total     None             NaN   \n",
            "\n",
            "   Rate without GST per kg\\litre  Rate_with_GST per kg\\litre  GST_percentage  \\\n",
            "0                           50.0                        56.0            12.0   \n",
            "1                            NaN                         NaN             NaN   \n",
            "\n",
            "   Total Rate without GST  Total Rate with GST  \n",
            "0                   100.0                112.0  \n",
            "1                   100.0                112.0  \n"
          ]
        }
      ]
    },
    {
      "cell_type": "code",
      "source": [],
      "metadata": {
        "id": "vujvaIas_sV7"
      },
      "execution_count": null,
      "outputs": []
    }
  ]
}